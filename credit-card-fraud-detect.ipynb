{
 "cells": [
  {
   "cell_type": "code",
   "execution_count": 1,
   "id": "e80c4e27",
   "metadata": {
    "execution": {
     "iopub.execute_input": "2022-10-07T09:59:03.536209Z",
     "iopub.status.busy": "2022-10-07T09:59:03.535244Z",
     "iopub.status.idle": "2022-10-07T09:59:03.539716Z",
     "shell.execute_reply": "2022-10-07T09:59:03.538875Z"
    },
    "papermill": {
     "duration": 0.031258,
     "end_time": "2022-10-07T09:59:03.541956",
     "exception": false,
     "start_time": "2022-10-07T09:59:03.510698",
     "status": "completed"
    },
    "tags": []
   },
   "outputs": [],
   "source": [
    "import numpy as np\n",
    "import pandas as pd\n",
    "import warnings\n",
    "warnings.filterwarnings('ignore')"
   ]
  },
  {
   "cell_type": "code",
   "execution_count": 2,
   "id": "33d27140",
   "metadata": {
    "execution": {
     "iopub.execute_input": "2022-10-07T09:59:03.589731Z",
     "iopub.status.busy": "2022-10-07T09:59:03.589017Z",
     "iopub.status.idle": "2022-10-07T09:59:08.215929Z",
     "shell.execute_reply": "2022-10-07T09:59:08.214677Z"
    },
    "papermill": {
     "duration": 4.653959,
     "end_time": "2022-10-07T09:59:08.218767",
     "exception": false,
     "start_time": "2022-10-07T09:59:03.564808",
     "status": "completed"
    },
    "tags": []
   },
   "outputs": [],
   "source": [
    "data = pd.read_csv('creditcard.csv')"
   ]
  },
  {
   "cell_type": "code",
   "execution_count": 3,
   "id": "e154a87e",
   "metadata": {
    "execution": {
     "iopub.execute_input": "2022-10-07T09:59:08.265890Z",
     "iopub.status.busy": "2022-10-07T09:59:08.265465Z",
     "iopub.status.idle": "2022-10-07T09:59:08.270943Z",
     "shell.execute_reply": "2022-10-07T09:59:08.269649Z"
    },
    "papermill": {
     "duration": 0.031878,
     "end_time": "2022-10-07T09:59:08.273300",
     "exception": false,
     "start_time": "2022-10-07T09:59:08.241422",
     "status": "completed"
    },
    "tags": []
   },
   "outputs": [],
   "source": [
    "pd.options.display.max_columns = None"
   ]
  },
  {
   "cell_type": "code",
   "execution_count": 4,
   "id": "82eae24c",
   "metadata": {
    "execution": {
     "iopub.execute_input": "2022-10-07T09:59:08.365125Z",
     "iopub.status.busy": "2022-10-07T09:59:08.364698Z",
     "iopub.status.idle": "2022-10-07T09:59:08.412758Z",
     "shell.execute_reply": "2022-10-07T09:59:08.411556Z"
    },
    "papermill": {
     "duration": 0.074493,
     "end_time": "2022-10-07T09:59:08.415287",
     "exception": false,
     "start_time": "2022-10-07T09:59:08.340794",
     "status": "completed"
    },
    "tags": []
   },
   "outputs": [
    {
     "data": {
      "text/html": [
       "<div>\n",
       "<style scoped>\n",
       "    .dataframe tbody tr th:only-of-type {\n",
       "        vertical-align: middle;\n",
       "    }\n",
       "\n",
       "    .dataframe tbody tr th {\n",
       "        vertical-align: top;\n",
       "    }\n",
       "\n",
       "    .dataframe thead th {\n",
       "        text-align: right;\n",
       "    }\n",
       "</style>\n",
       "<table border=\"1\" class=\"dataframe\">\n",
       "  <thead>\n",
       "    <tr style=\"text-align: right;\">\n",
       "      <th></th>\n",
       "      <th>Time</th>\n",
       "      <th>V1</th>\n",
       "      <th>V2</th>\n",
       "      <th>V3</th>\n",
       "      <th>V4</th>\n",
       "      <th>V5</th>\n",
       "      <th>V6</th>\n",
       "      <th>V7</th>\n",
       "      <th>V8</th>\n",
       "      <th>V9</th>\n",
       "      <th>V10</th>\n",
       "      <th>V11</th>\n",
       "      <th>V12</th>\n",
       "      <th>V13</th>\n",
       "      <th>V14</th>\n",
       "      <th>V15</th>\n",
       "      <th>V16</th>\n",
       "      <th>V17</th>\n",
       "      <th>V18</th>\n",
       "      <th>V19</th>\n",
       "      <th>V20</th>\n",
       "      <th>V21</th>\n",
       "      <th>V22</th>\n",
       "      <th>V23</th>\n",
       "      <th>V24</th>\n",
       "      <th>V25</th>\n",
       "      <th>V26</th>\n",
       "      <th>V27</th>\n",
       "      <th>V28</th>\n",
       "      <th>Amount</th>\n",
       "      <th>Class</th>\n",
       "    </tr>\n",
       "  </thead>\n",
       "  <tbody>\n",
       "    <tr>\n",
       "      <th>0</th>\n",
       "      <td>0.0</td>\n",
       "      <td>-1.359807</td>\n",
       "      <td>-0.072781</td>\n",
       "      <td>2.536347</td>\n",
       "      <td>1.378155</td>\n",
       "      <td>-0.338321</td>\n",
       "      <td>0.462388</td>\n",
       "      <td>0.239599</td>\n",
       "      <td>0.098698</td>\n",
       "      <td>0.363787</td>\n",
       "      <td>0.090794</td>\n",
       "      <td>-0.551600</td>\n",
       "      <td>-0.617801</td>\n",
       "      <td>-0.991390</td>\n",
       "      <td>-0.311169</td>\n",
       "      <td>1.468177</td>\n",
       "      <td>-0.470401</td>\n",
       "      <td>0.207971</td>\n",
       "      <td>0.025791</td>\n",
       "      <td>0.403993</td>\n",
       "      <td>0.251412</td>\n",
       "      <td>-0.018307</td>\n",
       "      <td>0.277838</td>\n",
       "      <td>-0.110474</td>\n",
       "      <td>0.066928</td>\n",
       "      <td>0.128539</td>\n",
       "      <td>-0.189115</td>\n",
       "      <td>0.133558</td>\n",
       "      <td>-0.021053</td>\n",
       "      <td>149.62</td>\n",
       "      <td>0</td>\n",
       "    </tr>\n",
       "    <tr>\n",
       "      <th>1</th>\n",
       "      <td>0.0</td>\n",
       "      <td>1.191857</td>\n",
       "      <td>0.266151</td>\n",
       "      <td>0.166480</td>\n",
       "      <td>0.448154</td>\n",
       "      <td>0.060018</td>\n",
       "      <td>-0.082361</td>\n",
       "      <td>-0.078803</td>\n",
       "      <td>0.085102</td>\n",
       "      <td>-0.255425</td>\n",
       "      <td>-0.166974</td>\n",
       "      <td>1.612727</td>\n",
       "      <td>1.065235</td>\n",
       "      <td>0.489095</td>\n",
       "      <td>-0.143772</td>\n",
       "      <td>0.635558</td>\n",
       "      <td>0.463917</td>\n",
       "      <td>-0.114805</td>\n",
       "      <td>-0.183361</td>\n",
       "      <td>-0.145783</td>\n",
       "      <td>-0.069083</td>\n",
       "      <td>-0.225775</td>\n",
       "      <td>-0.638672</td>\n",
       "      <td>0.101288</td>\n",
       "      <td>-0.339846</td>\n",
       "      <td>0.167170</td>\n",
       "      <td>0.125895</td>\n",
       "      <td>-0.008983</td>\n",
       "      <td>0.014724</td>\n",
       "      <td>2.69</td>\n",
       "      <td>0</td>\n",
       "    </tr>\n",
       "    <tr>\n",
       "      <th>2</th>\n",
       "      <td>1.0</td>\n",
       "      <td>-1.358354</td>\n",
       "      <td>-1.340163</td>\n",
       "      <td>1.773209</td>\n",
       "      <td>0.379780</td>\n",
       "      <td>-0.503198</td>\n",
       "      <td>1.800499</td>\n",
       "      <td>0.791461</td>\n",
       "      <td>0.247676</td>\n",
       "      <td>-1.514654</td>\n",
       "      <td>0.207643</td>\n",
       "      <td>0.624501</td>\n",
       "      <td>0.066084</td>\n",
       "      <td>0.717293</td>\n",
       "      <td>-0.165946</td>\n",
       "      <td>2.345865</td>\n",
       "      <td>-2.890083</td>\n",
       "      <td>1.109969</td>\n",
       "      <td>-0.121359</td>\n",
       "      <td>-2.261857</td>\n",
       "      <td>0.524980</td>\n",
       "      <td>0.247998</td>\n",
       "      <td>0.771679</td>\n",
       "      <td>0.909412</td>\n",
       "      <td>-0.689281</td>\n",
       "      <td>-0.327642</td>\n",
       "      <td>-0.139097</td>\n",
       "      <td>-0.055353</td>\n",
       "      <td>-0.059752</td>\n",
       "      <td>378.66</td>\n",
       "      <td>0</td>\n",
       "    </tr>\n",
       "    <tr>\n",
       "      <th>3</th>\n",
       "      <td>1.0</td>\n",
       "      <td>-0.966272</td>\n",
       "      <td>-0.185226</td>\n",
       "      <td>1.792993</td>\n",
       "      <td>-0.863291</td>\n",
       "      <td>-0.010309</td>\n",
       "      <td>1.247203</td>\n",
       "      <td>0.237609</td>\n",
       "      <td>0.377436</td>\n",
       "      <td>-1.387024</td>\n",
       "      <td>-0.054952</td>\n",
       "      <td>-0.226487</td>\n",
       "      <td>0.178228</td>\n",
       "      <td>0.507757</td>\n",
       "      <td>-0.287924</td>\n",
       "      <td>-0.631418</td>\n",
       "      <td>-1.059647</td>\n",
       "      <td>-0.684093</td>\n",
       "      <td>1.965775</td>\n",
       "      <td>-1.232622</td>\n",
       "      <td>-0.208038</td>\n",
       "      <td>-0.108300</td>\n",
       "      <td>0.005274</td>\n",
       "      <td>-0.190321</td>\n",
       "      <td>-1.175575</td>\n",
       "      <td>0.647376</td>\n",
       "      <td>-0.221929</td>\n",
       "      <td>0.062723</td>\n",
       "      <td>0.061458</td>\n",
       "      <td>123.50</td>\n",
       "      <td>0</td>\n",
       "    </tr>\n",
       "    <tr>\n",
       "      <th>4</th>\n",
       "      <td>2.0</td>\n",
       "      <td>-1.158233</td>\n",
       "      <td>0.877737</td>\n",
       "      <td>1.548718</td>\n",
       "      <td>0.403034</td>\n",
       "      <td>-0.407193</td>\n",
       "      <td>0.095921</td>\n",
       "      <td>0.592941</td>\n",
       "      <td>-0.270533</td>\n",
       "      <td>0.817739</td>\n",
       "      <td>0.753074</td>\n",
       "      <td>-0.822843</td>\n",
       "      <td>0.538196</td>\n",
       "      <td>1.345852</td>\n",
       "      <td>-1.119670</td>\n",
       "      <td>0.175121</td>\n",
       "      <td>-0.451449</td>\n",
       "      <td>-0.237033</td>\n",
       "      <td>-0.038195</td>\n",
       "      <td>0.803487</td>\n",
       "      <td>0.408542</td>\n",
       "      <td>-0.009431</td>\n",
       "      <td>0.798278</td>\n",
       "      <td>-0.137458</td>\n",
       "      <td>0.141267</td>\n",
       "      <td>-0.206010</td>\n",
       "      <td>0.502292</td>\n",
       "      <td>0.219422</td>\n",
       "      <td>0.215153</td>\n",
       "      <td>69.99</td>\n",
       "      <td>0</td>\n",
       "    </tr>\n",
       "  </tbody>\n",
       "</table>\n",
       "</div>"
      ],
      "text/plain": [
       "   Time        V1        V2        V3        V4        V5        V6        V7  \\\n",
       "0   0.0 -1.359807 -0.072781  2.536347  1.378155 -0.338321  0.462388  0.239599   \n",
       "1   0.0  1.191857  0.266151  0.166480  0.448154  0.060018 -0.082361 -0.078803   \n",
       "2   1.0 -1.358354 -1.340163  1.773209  0.379780 -0.503198  1.800499  0.791461   \n",
       "3   1.0 -0.966272 -0.185226  1.792993 -0.863291 -0.010309  1.247203  0.237609   \n",
       "4   2.0 -1.158233  0.877737  1.548718  0.403034 -0.407193  0.095921  0.592941   \n",
       "\n",
       "         V8        V9       V10       V11       V12       V13       V14  \\\n",
       "0  0.098698  0.363787  0.090794 -0.551600 -0.617801 -0.991390 -0.311169   \n",
       "1  0.085102 -0.255425 -0.166974  1.612727  1.065235  0.489095 -0.143772   \n",
       "2  0.247676 -1.514654  0.207643  0.624501  0.066084  0.717293 -0.165946   \n",
       "3  0.377436 -1.387024 -0.054952 -0.226487  0.178228  0.507757 -0.287924   \n",
       "4 -0.270533  0.817739  0.753074 -0.822843  0.538196  1.345852 -1.119670   \n",
       "\n",
       "        V15       V16       V17       V18       V19       V20       V21  \\\n",
       "0  1.468177 -0.470401  0.207971  0.025791  0.403993  0.251412 -0.018307   \n",
       "1  0.635558  0.463917 -0.114805 -0.183361 -0.145783 -0.069083 -0.225775   \n",
       "2  2.345865 -2.890083  1.109969 -0.121359 -2.261857  0.524980  0.247998   \n",
       "3 -0.631418 -1.059647 -0.684093  1.965775 -1.232622 -0.208038 -0.108300   \n",
       "4  0.175121 -0.451449 -0.237033 -0.038195  0.803487  0.408542 -0.009431   \n",
       "\n",
       "        V22       V23       V24       V25       V26       V27       V28  \\\n",
       "0  0.277838 -0.110474  0.066928  0.128539 -0.189115  0.133558 -0.021053   \n",
       "1 -0.638672  0.101288 -0.339846  0.167170  0.125895 -0.008983  0.014724   \n",
       "2  0.771679  0.909412 -0.689281 -0.327642 -0.139097 -0.055353 -0.059752   \n",
       "3  0.005274 -0.190321 -1.175575  0.647376 -0.221929  0.062723  0.061458   \n",
       "4  0.798278 -0.137458  0.141267 -0.206010  0.502292  0.219422  0.215153   \n",
       "\n",
       "   Amount  Class  \n",
       "0  149.62      0  \n",
       "1    2.69      0  \n",
       "2  378.66      0  \n",
       "3  123.50      0  \n",
       "4   69.99      0  "
      ]
     },
     "execution_count": 4,
     "metadata": {},
     "output_type": "execute_result"
    }
   ],
   "source": [
    "data.head()"
   ]
  },
  {
   "cell_type": "code",
   "execution_count": 5,
   "id": "71677b36",
   "metadata": {
    "execution": {
     "iopub.execute_input": "2022-10-07T09:59:08.511294Z",
     "iopub.status.busy": "2022-10-07T09:59:08.510846Z",
     "iopub.status.idle": "2022-10-07T09:59:08.545289Z",
     "shell.execute_reply": "2022-10-07T09:59:08.544049Z"
    },
    "papermill": {
     "duration": 0.061243,
     "end_time": "2022-10-07T09:59:08.547891",
     "exception": false,
     "start_time": "2022-10-07T09:59:08.486648",
     "status": "completed"
    },
    "tags": []
   },
   "outputs": [
    {
     "data": {
      "text/html": [
       "<div>\n",
       "<style scoped>\n",
       "    .dataframe tbody tr th:only-of-type {\n",
       "        vertical-align: middle;\n",
       "    }\n",
       "\n",
       "    .dataframe tbody tr th {\n",
       "        vertical-align: top;\n",
       "    }\n",
       "\n",
       "    .dataframe thead th {\n",
       "        text-align: right;\n",
       "    }\n",
       "</style>\n",
       "<table border=\"1\" class=\"dataframe\">\n",
       "  <thead>\n",
       "    <tr style=\"text-align: right;\">\n",
       "      <th></th>\n",
       "      <th>Time</th>\n",
       "      <th>V1</th>\n",
       "      <th>V2</th>\n",
       "      <th>V3</th>\n",
       "      <th>V4</th>\n",
       "      <th>V5</th>\n",
       "      <th>V6</th>\n",
       "      <th>V7</th>\n",
       "      <th>V8</th>\n",
       "      <th>V9</th>\n",
       "      <th>V10</th>\n",
       "      <th>V11</th>\n",
       "      <th>V12</th>\n",
       "      <th>V13</th>\n",
       "      <th>V14</th>\n",
       "      <th>V15</th>\n",
       "      <th>V16</th>\n",
       "      <th>V17</th>\n",
       "      <th>V18</th>\n",
       "      <th>V19</th>\n",
       "      <th>V20</th>\n",
       "      <th>V21</th>\n",
       "      <th>V22</th>\n",
       "      <th>V23</th>\n",
       "      <th>V24</th>\n",
       "      <th>V25</th>\n",
       "      <th>V26</th>\n",
       "      <th>V27</th>\n",
       "      <th>V28</th>\n",
       "      <th>Amount</th>\n",
       "      <th>Class</th>\n",
       "    </tr>\n",
       "  </thead>\n",
       "  <tbody>\n",
       "    <tr>\n",
       "      <th>284802</th>\n",
       "      <td>172786.0</td>\n",
       "      <td>-11.881118</td>\n",
       "      <td>10.071785</td>\n",
       "      <td>-9.834783</td>\n",
       "      <td>-2.066656</td>\n",
       "      <td>-5.364473</td>\n",
       "      <td>-2.606837</td>\n",
       "      <td>-4.918215</td>\n",
       "      <td>7.305334</td>\n",
       "      <td>1.914428</td>\n",
       "      <td>4.356170</td>\n",
       "      <td>-1.593105</td>\n",
       "      <td>2.711941</td>\n",
       "      <td>-0.689256</td>\n",
       "      <td>4.626942</td>\n",
       "      <td>-0.924459</td>\n",
       "      <td>1.107641</td>\n",
       "      <td>1.991691</td>\n",
       "      <td>0.510632</td>\n",
       "      <td>-0.682920</td>\n",
       "      <td>1.475829</td>\n",
       "      <td>0.213454</td>\n",
       "      <td>0.111864</td>\n",
       "      <td>1.014480</td>\n",
       "      <td>-0.509348</td>\n",
       "      <td>1.436807</td>\n",
       "      <td>0.250034</td>\n",
       "      <td>0.943651</td>\n",
       "      <td>0.823731</td>\n",
       "      <td>0.77</td>\n",
       "      <td>0</td>\n",
       "    </tr>\n",
       "    <tr>\n",
       "      <th>284803</th>\n",
       "      <td>172787.0</td>\n",
       "      <td>-0.732789</td>\n",
       "      <td>-0.055080</td>\n",
       "      <td>2.035030</td>\n",
       "      <td>-0.738589</td>\n",
       "      <td>0.868229</td>\n",
       "      <td>1.058415</td>\n",
       "      <td>0.024330</td>\n",
       "      <td>0.294869</td>\n",
       "      <td>0.584800</td>\n",
       "      <td>-0.975926</td>\n",
       "      <td>-0.150189</td>\n",
       "      <td>0.915802</td>\n",
       "      <td>1.214756</td>\n",
       "      <td>-0.675143</td>\n",
       "      <td>1.164931</td>\n",
       "      <td>-0.711757</td>\n",
       "      <td>-0.025693</td>\n",
       "      <td>-1.221179</td>\n",
       "      <td>-1.545556</td>\n",
       "      <td>0.059616</td>\n",
       "      <td>0.214205</td>\n",
       "      <td>0.924384</td>\n",
       "      <td>0.012463</td>\n",
       "      <td>-1.016226</td>\n",
       "      <td>-0.606624</td>\n",
       "      <td>-0.395255</td>\n",
       "      <td>0.068472</td>\n",
       "      <td>-0.053527</td>\n",
       "      <td>24.79</td>\n",
       "      <td>0</td>\n",
       "    </tr>\n",
       "    <tr>\n",
       "      <th>284804</th>\n",
       "      <td>172788.0</td>\n",
       "      <td>1.919565</td>\n",
       "      <td>-0.301254</td>\n",
       "      <td>-3.249640</td>\n",
       "      <td>-0.557828</td>\n",
       "      <td>2.630515</td>\n",
       "      <td>3.031260</td>\n",
       "      <td>-0.296827</td>\n",
       "      <td>0.708417</td>\n",
       "      <td>0.432454</td>\n",
       "      <td>-0.484782</td>\n",
       "      <td>0.411614</td>\n",
       "      <td>0.063119</td>\n",
       "      <td>-0.183699</td>\n",
       "      <td>-0.510602</td>\n",
       "      <td>1.329284</td>\n",
       "      <td>0.140716</td>\n",
       "      <td>0.313502</td>\n",
       "      <td>0.395652</td>\n",
       "      <td>-0.577252</td>\n",
       "      <td>0.001396</td>\n",
       "      <td>0.232045</td>\n",
       "      <td>0.578229</td>\n",
       "      <td>-0.037501</td>\n",
       "      <td>0.640134</td>\n",
       "      <td>0.265745</td>\n",
       "      <td>-0.087371</td>\n",
       "      <td>0.004455</td>\n",
       "      <td>-0.026561</td>\n",
       "      <td>67.88</td>\n",
       "      <td>0</td>\n",
       "    </tr>\n",
       "    <tr>\n",
       "      <th>284805</th>\n",
       "      <td>172788.0</td>\n",
       "      <td>-0.240440</td>\n",
       "      <td>0.530483</td>\n",
       "      <td>0.702510</td>\n",
       "      <td>0.689799</td>\n",
       "      <td>-0.377961</td>\n",
       "      <td>0.623708</td>\n",
       "      <td>-0.686180</td>\n",
       "      <td>0.679145</td>\n",
       "      <td>0.392087</td>\n",
       "      <td>-0.399126</td>\n",
       "      <td>-1.933849</td>\n",
       "      <td>-0.962886</td>\n",
       "      <td>-1.042082</td>\n",
       "      <td>0.449624</td>\n",
       "      <td>1.962563</td>\n",
       "      <td>-0.608577</td>\n",
       "      <td>0.509928</td>\n",
       "      <td>1.113981</td>\n",
       "      <td>2.897849</td>\n",
       "      <td>0.127434</td>\n",
       "      <td>0.265245</td>\n",
       "      <td>0.800049</td>\n",
       "      <td>-0.163298</td>\n",
       "      <td>0.123205</td>\n",
       "      <td>-0.569159</td>\n",
       "      <td>0.546668</td>\n",
       "      <td>0.108821</td>\n",
       "      <td>0.104533</td>\n",
       "      <td>10.00</td>\n",
       "      <td>0</td>\n",
       "    </tr>\n",
       "    <tr>\n",
       "      <th>284806</th>\n",
       "      <td>172792.0</td>\n",
       "      <td>-0.533413</td>\n",
       "      <td>-0.189733</td>\n",
       "      <td>0.703337</td>\n",
       "      <td>-0.506271</td>\n",
       "      <td>-0.012546</td>\n",
       "      <td>-0.649617</td>\n",
       "      <td>1.577006</td>\n",
       "      <td>-0.414650</td>\n",
       "      <td>0.486180</td>\n",
       "      <td>-0.915427</td>\n",
       "      <td>-1.040458</td>\n",
       "      <td>-0.031513</td>\n",
       "      <td>-0.188093</td>\n",
       "      <td>-0.084316</td>\n",
       "      <td>0.041333</td>\n",
       "      <td>-0.302620</td>\n",
       "      <td>-0.660377</td>\n",
       "      <td>0.167430</td>\n",
       "      <td>-0.256117</td>\n",
       "      <td>0.382948</td>\n",
       "      <td>0.261057</td>\n",
       "      <td>0.643078</td>\n",
       "      <td>0.376777</td>\n",
       "      <td>0.008797</td>\n",
       "      <td>-0.473649</td>\n",
       "      <td>-0.818267</td>\n",
       "      <td>-0.002415</td>\n",
       "      <td>0.013649</td>\n",
       "      <td>217.00</td>\n",
       "      <td>0</td>\n",
       "    </tr>\n",
       "  </tbody>\n",
       "</table>\n",
       "</div>"
      ],
      "text/plain": [
       "            Time         V1         V2        V3        V4        V5  \\\n",
       "284802  172786.0 -11.881118  10.071785 -9.834783 -2.066656 -5.364473   \n",
       "284803  172787.0  -0.732789  -0.055080  2.035030 -0.738589  0.868229   \n",
       "284804  172788.0   1.919565  -0.301254 -3.249640 -0.557828  2.630515   \n",
       "284805  172788.0  -0.240440   0.530483  0.702510  0.689799 -0.377961   \n",
       "284806  172792.0  -0.533413  -0.189733  0.703337 -0.506271 -0.012546   \n",
       "\n",
       "              V6        V7        V8        V9       V10       V11       V12  \\\n",
       "284802 -2.606837 -4.918215  7.305334  1.914428  4.356170 -1.593105  2.711941   \n",
       "284803  1.058415  0.024330  0.294869  0.584800 -0.975926 -0.150189  0.915802   \n",
       "284804  3.031260 -0.296827  0.708417  0.432454 -0.484782  0.411614  0.063119   \n",
       "284805  0.623708 -0.686180  0.679145  0.392087 -0.399126 -1.933849 -0.962886   \n",
       "284806 -0.649617  1.577006 -0.414650  0.486180 -0.915427 -1.040458 -0.031513   \n",
       "\n",
       "             V13       V14       V15       V16       V17       V18       V19  \\\n",
       "284802 -0.689256  4.626942 -0.924459  1.107641  1.991691  0.510632 -0.682920   \n",
       "284803  1.214756 -0.675143  1.164931 -0.711757 -0.025693 -1.221179 -1.545556   \n",
       "284804 -0.183699 -0.510602  1.329284  0.140716  0.313502  0.395652 -0.577252   \n",
       "284805 -1.042082  0.449624  1.962563 -0.608577  0.509928  1.113981  2.897849   \n",
       "284806 -0.188093 -0.084316  0.041333 -0.302620 -0.660377  0.167430 -0.256117   \n",
       "\n",
       "             V20       V21       V22       V23       V24       V25       V26  \\\n",
       "284802  1.475829  0.213454  0.111864  1.014480 -0.509348  1.436807  0.250034   \n",
       "284803  0.059616  0.214205  0.924384  0.012463 -1.016226 -0.606624 -0.395255   \n",
       "284804  0.001396  0.232045  0.578229 -0.037501  0.640134  0.265745 -0.087371   \n",
       "284805  0.127434  0.265245  0.800049 -0.163298  0.123205 -0.569159  0.546668   \n",
       "284806  0.382948  0.261057  0.643078  0.376777  0.008797 -0.473649 -0.818267   \n",
       "\n",
       "             V27       V28  Amount  Class  \n",
       "284802  0.943651  0.823731    0.77      0  \n",
       "284803  0.068472 -0.053527   24.79      0  \n",
       "284804  0.004455 -0.026561   67.88      0  \n",
       "284805  0.108821  0.104533   10.00      0  \n",
       "284806 -0.002415  0.013649  217.00      0  "
      ]
     },
     "execution_count": 5,
     "metadata": {},
     "output_type": "execute_result"
    }
   ],
   "source": [
    "data.tail()"
   ]
  },
  {
   "cell_type": "code",
   "execution_count": 6,
   "id": "0a85bd55",
   "metadata": {
    "execution": {
     "iopub.execute_input": "2022-10-07T09:59:08.645051Z",
     "iopub.status.busy": "2022-10-07T09:59:08.643955Z",
     "iopub.status.idle": "2022-10-07T09:59:08.651223Z",
     "shell.execute_reply": "2022-10-07T09:59:08.650175Z"
    },
    "papermill": {
     "duration": 0.034194,
     "end_time": "2022-10-07T09:59:08.653391",
     "exception": false,
     "start_time": "2022-10-07T09:59:08.619197",
     "status": "completed"
    },
    "tags": []
   },
   "outputs": [
    {
     "data": {
      "text/plain": [
       "(284807, 31)"
      ]
     },
     "execution_count": 6,
     "metadata": {},
     "output_type": "execute_result"
    }
   ],
   "source": [
    "data.shape"
   ]
  },
  {
   "cell_type": "code",
   "execution_count": 7,
   "id": "109f25fd",
   "metadata": {
    "execution": {
     "iopub.execute_input": "2022-10-07T09:59:08.702500Z",
     "iopub.status.busy": "2022-10-07T09:59:08.701497Z",
     "iopub.status.idle": "2022-10-07T09:59:08.708496Z",
     "shell.execute_reply": "2022-10-07T09:59:08.706783Z"
    },
    "papermill": {
     "duration": 0.034513,
     "end_time": "2022-10-07T09:59:08.711236",
     "exception": false,
     "start_time": "2022-10-07T09:59:08.676723",
     "status": "completed"
    },
    "tags": []
   },
   "outputs": [
    {
     "name": "stdout",
     "output_type": "stream",
     "text": [
      "Number of Rows 284807\n",
      "Number of Columns 31\n"
     ]
    }
   ],
   "source": [
    "print(\"Number of Rows\",data.shape[0])\n",
    "print(\"Number of Columns\",data.shape[1])"
   ]
  },
  {
   "cell_type": "code",
   "execution_count": 8,
   "id": "16f4d2ec",
   "metadata": {
    "execution": {
     "iopub.execute_input": "2022-10-07T09:59:08.808571Z",
     "iopub.status.busy": "2022-10-07T09:59:08.807862Z",
     "iopub.status.idle": "2022-10-07T09:59:08.858874Z",
     "shell.execute_reply": "2022-10-07T09:59:08.857017Z"
    },
    "papermill": {
     "duration": 0.079033,
     "end_time": "2022-10-07T09:59:08.861781",
     "exception": false,
     "start_time": "2022-10-07T09:59:08.782748",
     "status": "completed"
    },
    "tags": []
   },
   "outputs": [
    {
     "name": "stdout",
     "output_type": "stream",
     "text": [
      "<class 'pandas.core.frame.DataFrame'>\n",
      "RangeIndex: 284807 entries, 0 to 284806\n",
      "Data columns (total 31 columns):\n",
      " #   Column  Non-Null Count   Dtype  \n",
      "---  ------  --------------   -----  \n",
      " 0   Time    284807 non-null  float64\n",
      " 1   V1      284807 non-null  float64\n",
      " 2   V2      284807 non-null  float64\n",
      " 3   V3      284807 non-null  float64\n",
      " 4   V4      284807 non-null  float64\n",
      " 5   V5      284807 non-null  float64\n",
      " 6   V6      284807 non-null  float64\n",
      " 7   V7      284807 non-null  float64\n",
      " 8   V8      284807 non-null  float64\n",
      " 9   V9      284807 non-null  float64\n",
      " 10  V10     284807 non-null  float64\n",
      " 11  V11     284807 non-null  float64\n",
      " 12  V12     284807 non-null  float64\n",
      " 13  V13     284807 non-null  float64\n",
      " 14  V14     284807 non-null  float64\n",
      " 15  V15     284807 non-null  float64\n",
      " 16  V16     284807 non-null  float64\n",
      " 17  V17     284807 non-null  float64\n",
      " 18  V18     284807 non-null  float64\n",
      " 19  V19     284807 non-null  float64\n",
      " 20  V20     284807 non-null  float64\n",
      " 21  V21     284807 non-null  float64\n",
      " 22  V22     284807 non-null  float64\n",
      " 23  V23     284807 non-null  float64\n",
      " 24  V24     284807 non-null  float64\n",
      " 25  V25     284807 non-null  float64\n",
      " 26  V26     284807 non-null  float64\n",
      " 27  V27     284807 non-null  float64\n",
      " 28  V28     284807 non-null  float64\n",
      " 29  Amount  284807 non-null  float64\n",
      " 30  Class   284807 non-null  int64  \n",
      "dtypes: float64(30), int64(1)\n",
      "memory usage: 67.4 MB\n"
     ]
    }
   ],
   "source": [
    "data.info()"
   ]
  },
  {
   "cell_type": "code",
   "execution_count": 9,
   "id": "bd38182c",
   "metadata": {
    "execution": {
     "iopub.execute_input": "2022-10-07T09:59:08.958476Z",
     "iopub.status.busy": "2022-10-07T09:59:08.958085Z",
     "iopub.status.idle": "2022-10-07T09:59:08.986354Z",
     "shell.execute_reply": "2022-10-07T09:59:08.985201Z"
    },
    "papermill": {
     "duration": 0.055832,
     "end_time": "2022-10-07T09:59:08.988783",
     "exception": false,
     "start_time": "2022-10-07T09:59:08.932951",
     "status": "completed"
    },
    "tags": []
   },
   "outputs": [
    {
     "data": {
      "text/plain": [
       "Time      0\n",
       "V1        0\n",
       "V2        0\n",
       "V3        0\n",
       "V4        0\n",
       "V5        0\n",
       "V6        0\n",
       "V7        0\n",
       "V8        0\n",
       "V9        0\n",
       "V10       0\n",
       "V11       0\n",
       "V12       0\n",
       "V13       0\n",
       "V14       0\n",
       "V15       0\n",
       "V16       0\n",
       "V17       0\n",
       "V18       0\n",
       "V19       0\n",
       "V20       0\n",
       "V21       0\n",
       "V22       0\n",
       "V23       0\n",
       "V24       0\n",
       "V25       0\n",
       "V26       0\n",
       "V27       0\n",
       "V28       0\n",
       "Amount    0\n",
       "Class     0\n",
       "dtype: int64"
      ]
     },
     "execution_count": 9,
     "metadata": {},
     "output_type": "execute_result"
    }
   ],
   "source": [
    "data.isnull().sum()"
   ]
  },
  {
   "cell_type": "markdown",
   "id": "ae6a84df",
   "metadata": {
    "papermill": {
     "duration": 0.023782,
     "end_time": "2022-10-07T09:59:09.036389",
     "exception": false,
     "start_time": "2022-10-07T09:59:09.012607",
     "status": "completed"
    },
    "tags": []
   },
   "source": [
    "# Feature Scaling"
   ]
  },
  {
   "cell_type": "code",
   "execution_count": 10,
   "id": "82f331d6",
   "metadata": {
    "execution": {
     "iopub.execute_input": "2022-10-07T09:59:09.087160Z",
     "iopub.status.busy": "2022-10-07T09:59:09.086396Z",
     "iopub.status.idle": "2022-10-07T09:59:10.087891Z",
     "shell.execute_reply": "2022-10-07T09:59:10.086481Z"
    },
    "papermill": {
     "duration": 1.030284,
     "end_time": "2022-10-07T09:59:10.091228",
     "exception": false,
     "start_time": "2022-10-07T09:59:09.060944",
     "status": "completed"
    },
    "tags": []
   },
   "outputs": [],
   "source": [
    "from sklearn.preprocessing import StandardScaler"
   ]
  },
  {
   "cell_type": "code",
   "execution_count": 11,
   "id": "8021aee7",
   "metadata": {
    "execution": {
     "iopub.execute_input": "2022-10-07T09:59:10.140566Z",
     "iopub.status.busy": "2022-10-07T09:59:10.140104Z",
     "iopub.status.idle": "2022-10-07T09:59:10.153256Z",
     "shell.execute_reply": "2022-10-07T09:59:10.152338Z"
    },
    "papermill": {
     "duration": 0.040494,
     "end_time": "2022-10-07T09:59:10.155637",
     "exception": false,
     "start_time": "2022-10-07T09:59:10.115143",
     "status": "completed"
    },
    "tags": []
   },
   "outputs": [],
   "source": [
    "sc = StandardScaler()\n",
    "data['Amount']=sc.fit_transform(pd.DataFrame(data['Amount']))"
   ]
  },
  {
   "cell_type": "code",
   "execution_count": 12,
   "id": "15531fb9",
   "metadata": {
    "execution": {
     "iopub.execute_input": "2022-10-07T09:59:10.206053Z",
     "iopub.status.busy": "2022-10-07T09:59:10.204912Z",
     "iopub.status.idle": "2022-10-07T09:59:10.236963Z",
     "shell.execute_reply": "2022-10-07T09:59:10.235847Z"
    },
    "papermill": {
     "duration": 0.059938,
     "end_time": "2022-10-07T09:59:10.239582",
     "exception": false,
     "start_time": "2022-10-07T09:59:10.179644",
     "status": "completed"
    },
    "tags": []
   },
   "outputs": [
    {
     "data": {
      "text/html": [
       "<div>\n",
       "<style scoped>\n",
       "    .dataframe tbody tr th:only-of-type {\n",
       "        vertical-align: middle;\n",
       "    }\n",
       "\n",
       "    .dataframe tbody tr th {\n",
       "        vertical-align: top;\n",
       "    }\n",
       "\n",
       "    .dataframe thead th {\n",
       "        text-align: right;\n",
       "    }\n",
       "</style>\n",
       "<table border=\"1\" class=\"dataframe\">\n",
       "  <thead>\n",
       "    <tr style=\"text-align: right;\">\n",
       "      <th></th>\n",
       "      <th>Time</th>\n",
       "      <th>V1</th>\n",
       "      <th>V2</th>\n",
       "      <th>V3</th>\n",
       "      <th>V4</th>\n",
       "      <th>V5</th>\n",
       "      <th>V6</th>\n",
       "      <th>V7</th>\n",
       "      <th>V8</th>\n",
       "      <th>V9</th>\n",
       "      <th>V10</th>\n",
       "      <th>V11</th>\n",
       "      <th>V12</th>\n",
       "      <th>V13</th>\n",
       "      <th>V14</th>\n",
       "      <th>V15</th>\n",
       "      <th>V16</th>\n",
       "      <th>V17</th>\n",
       "      <th>V18</th>\n",
       "      <th>V19</th>\n",
       "      <th>V20</th>\n",
       "      <th>V21</th>\n",
       "      <th>V22</th>\n",
       "      <th>V23</th>\n",
       "      <th>V24</th>\n",
       "      <th>V25</th>\n",
       "      <th>V26</th>\n",
       "      <th>V27</th>\n",
       "      <th>V28</th>\n",
       "      <th>Amount</th>\n",
       "      <th>Class</th>\n",
       "    </tr>\n",
       "  </thead>\n",
       "  <tbody>\n",
       "    <tr>\n",
       "      <th>0</th>\n",
       "      <td>0.0</td>\n",
       "      <td>-1.359807</td>\n",
       "      <td>-0.072781</td>\n",
       "      <td>2.536347</td>\n",
       "      <td>1.378155</td>\n",
       "      <td>-0.338321</td>\n",
       "      <td>0.462388</td>\n",
       "      <td>0.239599</td>\n",
       "      <td>0.098698</td>\n",
       "      <td>0.363787</td>\n",
       "      <td>0.090794</td>\n",
       "      <td>-0.551600</td>\n",
       "      <td>-0.617801</td>\n",
       "      <td>-0.991390</td>\n",
       "      <td>-0.311169</td>\n",
       "      <td>1.468177</td>\n",
       "      <td>-0.470401</td>\n",
       "      <td>0.207971</td>\n",
       "      <td>0.025791</td>\n",
       "      <td>0.403993</td>\n",
       "      <td>0.251412</td>\n",
       "      <td>-0.018307</td>\n",
       "      <td>0.277838</td>\n",
       "      <td>-0.110474</td>\n",
       "      <td>0.066928</td>\n",
       "      <td>0.128539</td>\n",
       "      <td>-0.189115</td>\n",
       "      <td>0.133558</td>\n",
       "      <td>-0.021053</td>\n",
       "      <td>0.244964</td>\n",
       "      <td>0</td>\n",
       "    </tr>\n",
       "    <tr>\n",
       "      <th>1</th>\n",
       "      <td>0.0</td>\n",
       "      <td>1.191857</td>\n",
       "      <td>0.266151</td>\n",
       "      <td>0.166480</td>\n",
       "      <td>0.448154</td>\n",
       "      <td>0.060018</td>\n",
       "      <td>-0.082361</td>\n",
       "      <td>-0.078803</td>\n",
       "      <td>0.085102</td>\n",
       "      <td>-0.255425</td>\n",
       "      <td>-0.166974</td>\n",
       "      <td>1.612727</td>\n",
       "      <td>1.065235</td>\n",
       "      <td>0.489095</td>\n",
       "      <td>-0.143772</td>\n",
       "      <td>0.635558</td>\n",
       "      <td>0.463917</td>\n",
       "      <td>-0.114805</td>\n",
       "      <td>-0.183361</td>\n",
       "      <td>-0.145783</td>\n",
       "      <td>-0.069083</td>\n",
       "      <td>-0.225775</td>\n",
       "      <td>-0.638672</td>\n",
       "      <td>0.101288</td>\n",
       "      <td>-0.339846</td>\n",
       "      <td>0.167170</td>\n",
       "      <td>0.125895</td>\n",
       "      <td>-0.008983</td>\n",
       "      <td>0.014724</td>\n",
       "      <td>-0.342475</td>\n",
       "      <td>0</td>\n",
       "    </tr>\n",
       "    <tr>\n",
       "      <th>2</th>\n",
       "      <td>1.0</td>\n",
       "      <td>-1.358354</td>\n",
       "      <td>-1.340163</td>\n",
       "      <td>1.773209</td>\n",
       "      <td>0.379780</td>\n",
       "      <td>-0.503198</td>\n",
       "      <td>1.800499</td>\n",
       "      <td>0.791461</td>\n",
       "      <td>0.247676</td>\n",
       "      <td>-1.514654</td>\n",
       "      <td>0.207643</td>\n",
       "      <td>0.624501</td>\n",
       "      <td>0.066084</td>\n",
       "      <td>0.717293</td>\n",
       "      <td>-0.165946</td>\n",
       "      <td>2.345865</td>\n",
       "      <td>-2.890083</td>\n",
       "      <td>1.109969</td>\n",
       "      <td>-0.121359</td>\n",
       "      <td>-2.261857</td>\n",
       "      <td>0.524980</td>\n",
       "      <td>0.247998</td>\n",
       "      <td>0.771679</td>\n",
       "      <td>0.909412</td>\n",
       "      <td>-0.689281</td>\n",
       "      <td>-0.327642</td>\n",
       "      <td>-0.139097</td>\n",
       "      <td>-0.055353</td>\n",
       "      <td>-0.059752</td>\n",
       "      <td>1.160686</td>\n",
       "      <td>0</td>\n",
       "    </tr>\n",
       "    <tr>\n",
       "      <th>3</th>\n",
       "      <td>1.0</td>\n",
       "      <td>-0.966272</td>\n",
       "      <td>-0.185226</td>\n",
       "      <td>1.792993</td>\n",
       "      <td>-0.863291</td>\n",
       "      <td>-0.010309</td>\n",
       "      <td>1.247203</td>\n",
       "      <td>0.237609</td>\n",
       "      <td>0.377436</td>\n",
       "      <td>-1.387024</td>\n",
       "      <td>-0.054952</td>\n",
       "      <td>-0.226487</td>\n",
       "      <td>0.178228</td>\n",
       "      <td>0.507757</td>\n",
       "      <td>-0.287924</td>\n",
       "      <td>-0.631418</td>\n",
       "      <td>-1.059647</td>\n",
       "      <td>-0.684093</td>\n",
       "      <td>1.965775</td>\n",
       "      <td>-1.232622</td>\n",
       "      <td>-0.208038</td>\n",
       "      <td>-0.108300</td>\n",
       "      <td>0.005274</td>\n",
       "      <td>-0.190321</td>\n",
       "      <td>-1.175575</td>\n",
       "      <td>0.647376</td>\n",
       "      <td>-0.221929</td>\n",
       "      <td>0.062723</td>\n",
       "      <td>0.061458</td>\n",
       "      <td>0.140534</td>\n",
       "      <td>0</td>\n",
       "    </tr>\n",
       "    <tr>\n",
       "      <th>4</th>\n",
       "      <td>2.0</td>\n",
       "      <td>-1.158233</td>\n",
       "      <td>0.877737</td>\n",
       "      <td>1.548718</td>\n",
       "      <td>0.403034</td>\n",
       "      <td>-0.407193</td>\n",
       "      <td>0.095921</td>\n",
       "      <td>0.592941</td>\n",
       "      <td>-0.270533</td>\n",
       "      <td>0.817739</td>\n",
       "      <td>0.753074</td>\n",
       "      <td>-0.822843</td>\n",
       "      <td>0.538196</td>\n",
       "      <td>1.345852</td>\n",
       "      <td>-1.119670</td>\n",
       "      <td>0.175121</td>\n",
       "      <td>-0.451449</td>\n",
       "      <td>-0.237033</td>\n",
       "      <td>-0.038195</td>\n",
       "      <td>0.803487</td>\n",
       "      <td>0.408542</td>\n",
       "      <td>-0.009431</td>\n",
       "      <td>0.798278</td>\n",
       "      <td>-0.137458</td>\n",
       "      <td>0.141267</td>\n",
       "      <td>-0.206010</td>\n",
       "      <td>0.502292</td>\n",
       "      <td>0.219422</td>\n",
       "      <td>0.215153</td>\n",
       "      <td>-0.073403</td>\n",
       "      <td>0</td>\n",
       "    </tr>\n",
       "  </tbody>\n",
       "</table>\n",
       "</div>"
      ],
      "text/plain": [
       "   Time        V1        V2        V3        V4        V5        V6        V7  \\\n",
       "0   0.0 -1.359807 -0.072781  2.536347  1.378155 -0.338321  0.462388  0.239599   \n",
       "1   0.0  1.191857  0.266151  0.166480  0.448154  0.060018 -0.082361 -0.078803   \n",
       "2   1.0 -1.358354 -1.340163  1.773209  0.379780 -0.503198  1.800499  0.791461   \n",
       "3   1.0 -0.966272 -0.185226  1.792993 -0.863291 -0.010309  1.247203  0.237609   \n",
       "4   2.0 -1.158233  0.877737  1.548718  0.403034 -0.407193  0.095921  0.592941   \n",
       "\n",
       "         V8        V9       V10       V11       V12       V13       V14  \\\n",
       "0  0.098698  0.363787  0.090794 -0.551600 -0.617801 -0.991390 -0.311169   \n",
       "1  0.085102 -0.255425 -0.166974  1.612727  1.065235  0.489095 -0.143772   \n",
       "2  0.247676 -1.514654  0.207643  0.624501  0.066084  0.717293 -0.165946   \n",
       "3  0.377436 -1.387024 -0.054952 -0.226487  0.178228  0.507757 -0.287924   \n",
       "4 -0.270533  0.817739  0.753074 -0.822843  0.538196  1.345852 -1.119670   \n",
       "\n",
       "        V15       V16       V17       V18       V19       V20       V21  \\\n",
       "0  1.468177 -0.470401  0.207971  0.025791  0.403993  0.251412 -0.018307   \n",
       "1  0.635558  0.463917 -0.114805 -0.183361 -0.145783 -0.069083 -0.225775   \n",
       "2  2.345865 -2.890083  1.109969 -0.121359 -2.261857  0.524980  0.247998   \n",
       "3 -0.631418 -1.059647 -0.684093  1.965775 -1.232622 -0.208038 -0.108300   \n",
       "4  0.175121 -0.451449 -0.237033 -0.038195  0.803487  0.408542 -0.009431   \n",
       "\n",
       "        V22       V23       V24       V25       V26       V27       V28  \\\n",
       "0  0.277838 -0.110474  0.066928  0.128539 -0.189115  0.133558 -0.021053   \n",
       "1 -0.638672  0.101288 -0.339846  0.167170  0.125895 -0.008983  0.014724   \n",
       "2  0.771679  0.909412 -0.689281 -0.327642 -0.139097 -0.055353 -0.059752   \n",
       "3  0.005274 -0.190321 -1.175575  0.647376 -0.221929  0.062723  0.061458   \n",
       "4  0.798278 -0.137458  0.141267 -0.206010  0.502292  0.219422  0.215153   \n",
       "\n",
       "     Amount  Class  \n",
       "0  0.244964      0  \n",
       "1 -0.342475      0  \n",
       "2  1.160686      0  \n",
       "3  0.140534      0  \n",
       "4 -0.073403      0  "
      ]
     },
     "execution_count": 12,
     "metadata": {},
     "output_type": "execute_result"
    }
   ],
   "source": [
    "data.head()"
   ]
  },
  {
   "cell_type": "code",
   "execution_count": 13,
   "id": "af7d0edf",
   "metadata": {
    "execution": {
     "iopub.execute_input": "2022-10-07T09:59:10.290579Z",
     "iopub.status.busy": "2022-10-07T09:59:10.290174Z",
     "iopub.status.idle": "2022-10-07T09:59:10.328204Z",
     "shell.execute_reply": "2022-10-07T09:59:10.327002Z"
    },
    "papermill": {
     "duration": 0.066587,
     "end_time": "2022-10-07T09:59:10.330999",
     "exception": false,
     "start_time": "2022-10-07T09:59:10.264412",
     "status": "completed"
    },
    "tags": []
   },
   "outputs": [],
   "source": [
    "data = data.drop(['Time'],axis=1)"
   ]
  },
  {
   "cell_type": "code",
   "execution_count": 14,
   "id": "79dd1868",
   "metadata": {
    "execution": {
     "iopub.execute_input": "2022-10-07T09:59:10.381725Z",
     "iopub.status.busy": "2022-10-07T09:59:10.381276Z",
     "iopub.status.idle": "2022-10-07T09:59:10.413457Z",
     "shell.execute_reply": "2022-10-07T09:59:10.412219Z"
    },
    "papermill": {
     "duration": 0.060338,
     "end_time": "2022-10-07T09:59:10.415917",
     "exception": false,
     "start_time": "2022-10-07T09:59:10.355579",
     "status": "completed"
    },
    "tags": []
   },
   "outputs": [
    {
     "data": {
      "text/html": [
       "<div>\n",
       "<style scoped>\n",
       "    .dataframe tbody tr th:only-of-type {\n",
       "        vertical-align: middle;\n",
       "    }\n",
       "\n",
       "    .dataframe tbody tr th {\n",
       "        vertical-align: top;\n",
       "    }\n",
       "\n",
       "    .dataframe thead th {\n",
       "        text-align: right;\n",
       "    }\n",
       "</style>\n",
       "<table border=\"1\" class=\"dataframe\">\n",
       "  <thead>\n",
       "    <tr style=\"text-align: right;\">\n",
       "      <th></th>\n",
       "      <th>V1</th>\n",
       "      <th>V2</th>\n",
       "      <th>V3</th>\n",
       "      <th>V4</th>\n",
       "      <th>V5</th>\n",
       "      <th>V6</th>\n",
       "      <th>V7</th>\n",
       "      <th>V8</th>\n",
       "      <th>V9</th>\n",
       "      <th>V10</th>\n",
       "      <th>V11</th>\n",
       "      <th>V12</th>\n",
       "      <th>V13</th>\n",
       "      <th>V14</th>\n",
       "      <th>V15</th>\n",
       "      <th>V16</th>\n",
       "      <th>V17</th>\n",
       "      <th>V18</th>\n",
       "      <th>V19</th>\n",
       "      <th>V20</th>\n",
       "      <th>V21</th>\n",
       "      <th>V22</th>\n",
       "      <th>V23</th>\n",
       "      <th>V24</th>\n",
       "      <th>V25</th>\n",
       "      <th>V26</th>\n",
       "      <th>V27</th>\n",
       "      <th>V28</th>\n",
       "      <th>Amount</th>\n",
       "      <th>Class</th>\n",
       "    </tr>\n",
       "  </thead>\n",
       "  <tbody>\n",
       "    <tr>\n",
       "      <th>0</th>\n",
       "      <td>-1.359807</td>\n",
       "      <td>-0.072781</td>\n",
       "      <td>2.536347</td>\n",
       "      <td>1.378155</td>\n",
       "      <td>-0.338321</td>\n",
       "      <td>0.462388</td>\n",
       "      <td>0.239599</td>\n",
       "      <td>0.098698</td>\n",
       "      <td>0.363787</td>\n",
       "      <td>0.090794</td>\n",
       "      <td>-0.551600</td>\n",
       "      <td>-0.617801</td>\n",
       "      <td>-0.991390</td>\n",
       "      <td>-0.311169</td>\n",
       "      <td>1.468177</td>\n",
       "      <td>-0.470401</td>\n",
       "      <td>0.207971</td>\n",
       "      <td>0.025791</td>\n",
       "      <td>0.403993</td>\n",
       "      <td>0.251412</td>\n",
       "      <td>-0.018307</td>\n",
       "      <td>0.277838</td>\n",
       "      <td>-0.110474</td>\n",
       "      <td>0.066928</td>\n",
       "      <td>0.128539</td>\n",
       "      <td>-0.189115</td>\n",
       "      <td>0.133558</td>\n",
       "      <td>-0.021053</td>\n",
       "      <td>0.244964</td>\n",
       "      <td>0</td>\n",
       "    </tr>\n",
       "    <tr>\n",
       "      <th>1</th>\n",
       "      <td>1.191857</td>\n",
       "      <td>0.266151</td>\n",
       "      <td>0.166480</td>\n",
       "      <td>0.448154</td>\n",
       "      <td>0.060018</td>\n",
       "      <td>-0.082361</td>\n",
       "      <td>-0.078803</td>\n",
       "      <td>0.085102</td>\n",
       "      <td>-0.255425</td>\n",
       "      <td>-0.166974</td>\n",
       "      <td>1.612727</td>\n",
       "      <td>1.065235</td>\n",
       "      <td>0.489095</td>\n",
       "      <td>-0.143772</td>\n",
       "      <td>0.635558</td>\n",
       "      <td>0.463917</td>\n",
       "      <td>-0.114805</td>\n",
       "      <td>-0.183361</td>\n",
       "      <td>-0.145783</td>\n",
       "      <td>-0.069083</td>\n",
       "      <td>-0.225775</td>\n",
       "      <td>-0.638672</td>\n",
       "      <td>0.101288</td>\n",
       "      <td>-0.339846</td>\n",
       "      <td>0.167170</td>\n",
       "      <td>0.125895</td>\n",
       "      <td>-0.008983</td>\n",
       "      <td>0.014724</td>\n",
       "      <td>-0.342475</td>\n",
       "      <td>0</td>\n",
       "    </tr>\n",
       "    <tr>\n",
       "      <th>2</th>\n",
       "      <td>-1.358354</td>\n",
       "      <td>-1.340163</td>\n",
       "      <td>1.773209</td>\n",
       "      <td>0.379780</td>\n",
       "      <td>-0.503198</td>\n",
       "      <td>1.800499</td>\n",
       "      <td>0.791461</td>\n",
       "      <td>0.247676</td>\n",
       "      <td>-1.514654</td>\n",
       "      <td>0.207643</td>\n",
       "      <td>0.624501</td>\n",
       "      <td>0.066084</td>\n",
       "      <td>0.717293</td>\n",
       "      <td>-0.165946</td>\n",
       "      <td>2.345865</td>\n",
       "      <td>-2.890083</td>\n",
       "      <td>1.109969</td>\n",
       "      <td>-0.121359</td>\n",
       "      <td>-2.261857</td>\n",
       "      <td>0.524980</td>\n",
       "      <td>0.247998</td>\n",
       "      <td>0.771679</td>\n",
       "      <td>0.909412</td>\n",
       "      <td>-0.689281</td>\n",
       "      <td>-0.327642</td>\n",
       "      <td>-0.139097</td>\n",
       "      <td>-0.055353</td>\n",
       "      <td>-0.059752</td>\n",
       "      <td>1.160686</td>\n",
       "      <td>0</td>\n",
       "    </tr>\n",
       "    <tr>\n",
       "      <th>3</th>\n",
       "      <td>-0.966272</td>\n",
       "      <td>-0.185226</td>\n",
       "      <td>1.792993</td>\n",
       "      <td>-0.863291</td>\n",
       "      <td>-0.010309</td>\n",
       "      <td>1.247203</td>\n",
       "      <td>0.237609</td>\n",
       "      <td>0.377436</td>\n",
       "      <td>-1.387024</td>\n",
       "      <td>-0.054952</td>\n",
       "      <td>-0.226487</td>\n",
       "      <td>0.178228</td>\n",
       "      <td>0.507757</td>\n",
       "      <td>-0.287924</td>\n",
       "      <td>-0.631418</td>\n",
       "      <td>-1.059647</td>\n",
       "      <td>-0.684093</td>\n",
       "      <td>1.965775</td>\n",
       "      <td>-1.232622</td>\n",
       "      <td>-0.208038</td>\n",
       "      <td>-0.108300</td>\n",
       "      <td>0.005274</td>\n",
       "      <td>-0.190321</td>\n",
       "      <td>-1.175575</td>\n",
       "      <td>0.647376</td>\n",
       "      <td>-0.221929</td>\n",
       "      <td>0.062723</td>\n",
       "      <td>0.061458</td>\n",
       "      <td>0.140534</td>\n",
       "      <td>0</td>\n",
       "    </tr>\n",
       "    <tr>\n",
       "      <th>4</th>\n",
       "      <td>-1.158233</td>\n",
       "      <td>0.877737</td>\n",
       "      <td>1.548718</td>\n",
       "      <td>0.403034</td>\n",
       "      <td>-0.407193</td>\n",
       "      <td>0.095921</td>\n",
       "      <td>0.592941</td>\n",
       "      <td>-0.270533</td>\n",
       "      <td>0.817739</td>\n",
       "      <td>0.753074</td>\n",
       "      <td>-0.822843</td>\n",
       "      <td>0.538196</td>\n",
       "      <td>1.345852</td>\n",
       "      <td>-1.119670</td>\n",
       "      <td>0.175121</td>\n",
       "      <td>-0.451449</td>\n",
       "      <td>-0.237033</td>\n",
       "      <td>-0.038195</td>\n",
       "      <td>0.803487</td>\n",
       "      <td>0.408542</td>\n",
       "      <td>-0.009431</td>\n",
       "      <td>0.798278</td>\n",
       "      <td>-0.137458</td>\n",
       "      <td>0.141267</td>\n",
       "      <td>-0.206010</td>\n",
       "      <td>0.502292</td>\n",
       "      <td>0.219422</td>\n",
       "      <td>0.215153</td>\n",
       "      <td>-0.073403</td>\n",
       "      <td>0</td>\n",
       "    </tr>\n",
       "  </tbody>\n",
       "</table>\n",
       "</div>"
      ],
      "text/plain": [
       "         V1        V2        V3        V4        V5        V6        V7  \\\n",
       "0 -1.359807 -0.072781  2.536347  1.378155 -0.338321  0.462388  0.239599   \n",
       "1  1.191857  0.266151  0.166480  0.448154  0.060018 -0.082361 -0.078803   \n",
       "2 -1.358354 -1.340163  1.773209  0.379780 -0.503198  1.800499  0.791461   \n",
       "3 -0.966272 -0.185226  1.792993 -0.863291 -0.010309  1.247203  0.237609   \n",
       "4 -1.158233  0.877737  1.548718  0.403034 -0.407193  0.095921  0.592941   \n",
       "\n",
       "         V8        V9       V10       V11       V12       V13       V14  \\\n",
       "0  0.098698  0.363787  0.090794 -0.551600 -0.617801 -0.991390 -0.311169   \n",
       "1  0.085102 -0.255425 -0.166974  1.612727  1.065235  0.489095 -0.143772   \n",
       "2  0.247676 -1.514654  0.207643  0.624501  0.066084  0.717293 -0.165946   \n",
       "3  0.377436 -1.387024 -0.054952 -0.226487  0.178228  0.507757 -0.287924   \n",
       "4 -0.270533  0.817739  0.753074 -0.822843  0.538196  1.345852 -1.119670   \n",
       "\n",
       "        V15       V16       V17       V18       V19       V20       V21  \\\n",
       "0  1.468177 -0.470401  0.207971  0.025791  0.403993  0.251412 -0.018307   \n",
       "1  0.635558  0.463917 -0.114805 -0.183361 -0.145783 -0.069083 -0.225775   \n",
       "2  2.345865 -2.890083  1.109969 -0.121359 -2.261857  0.524980  0.247998   \n",
       "3 -0.631418 -1.059647 -0.684093  1.965775 -1.232622 -0.208038 -0.108300   \n",
       "4  0.175121 -0.451449 -0.237033 -0.038195  0.803487  0.408542 -0.009431   \n",
       "\n",
       "        V22       V23       V24       V25       V26       V27       V28  \\\n",
       "0  0.277838 -0.110474  0.066928  0.128539 -0.189115  0.133558 -0.021053   \n",
       "1 -0.638672  0.101288 -0.339846  0.167170  0.125895 -0.008983  0.014724   \n",
       "2  0.771679  0.909412 -0.689281 -0.327642 -0.139097 -0.055353 -0.059752   \n",
       "3  0.005274 -0.190321 -1.175575  0.647376 -0.221929  0.062723  0.061458   \n",
       "4  0.798278 -0.137458  0.141267 -0.206010  0.502292  0.219422  0.215153   \n",
       "\n",
       "     Amount  Class  \n",
       "0  0.244964      0  \n",
       "1 -0.342475      0  \n",
       "2  1.160686      0  \n",
       "3  0.140534      0  \n",
       "4 -0.073403      0  "
      ]
     },
     "execution_count": 14,
     "metadata": {},
     "output_type": "execute_result"
    }
   ],
   "source": [
    "data.head()"
   ]
  },
  {
   "cell_type": "code",
   "execution_count": 15,
   "id": "310ec916",
   "metadata": {
    "execution": {
     "iopub.execute_input": "2022-10-07T09:59:10.469724Z",
     "iopub.status.busy": "2022-10-07T09:59:10.468639Z",
     "iopub.status.idle": "2022-10-07T09:59:10.475845Z",
     "shell.execute_reply": "2022-10-07T09:59:10.474987Z"
    },
    "papermill": {
     "duration": 0.036135,
     "end_time": "2022-10-07T09:59:10.477932",
     "exception": false,
     "start_time": "2022-10-07T09:59:10.441797",
     "status": "completed"
    },
    "tags": []
   },
   "outputs": [
    {
     "data": {
      "text/plain": [
       "(284807, 30)"
      ]
     },
     "execution_count": 15,
     "metadata": {},
     "output_type": "execute_result"
    }
   ],
   "source": [
    "data.shape"
   ]
  },
  {
   "cell_type": "code",
   "execution_count": 16,
   "id": "4310f024",
   "metadata": {
    "execution": {
     "iopub.execute_input": "2022-10-07T09:59:10.529622Z",
     "iopub.status.busy": "2022-10-07T09:59:10.528989Z",
     "iopub.status.idle": "2022-10-07T09:59:11.533691Z",
     "shell.execute_reply": "2022-10-07T09:59:11.532404Z"
    },
    "papermill": {
     "duration": 1.033495,
     "end_time": "2022-10-07T09:59:11.536276",
     "exception": false,
     "start_time": "2022-10-07T09:59:10.502781",
     "status": "completed"
    },
    "tags": []
   },
   "outputs": [
    {
     "data": {
      "text/plain": [
       "True"
      ]
     },
     "execution_count": 16,
     "metadata": {},
     "output_type": "execute_result"
    }
   ],
   "source": [
    "data.duplicated().any()"
   ]
  },
  {
   "cell_type": "code",
   "execution_count": 17,
   "id": "1c5879ff",
   "metadata": {
    "execution": {
     "iopub.execute_input": "2022-10-07T09:59:11.638563Z",
     "iopub.status.busy": "2022-10-07T09:59:11.638103Z",
     "iopub.status.idle": "2022-10-07T09:59:12.731803Z",
     "shell.execute_reply": "2022-10-07T09:59:12.730663Z"
    },
    "papermill": {
     "duration": 1.12272,
     "end_time": "2022-10-07T09:59:12.734348",
     "exception": false,
     "start_time": "2022-10-07T09:59:11.611628",
     "status": "completed"
    },
    "tags": []
   },
   "outputs": [],
   "source": [
    "data = data.drop_duplicates()"
   ]
  },
  {
   "cell_type": "code",
   "execution_count": 18,
   "id": "ad911036",
   "metadata": {
    "execution": {
     "iopub.execute_input": "2022-10-07T09:59:12.786318Z",
     "iopub.status.busy": "2022-10-07T09:59:12.785875Z",
     "iopub.status.idle": "2022-10-07T09:59:12.792911Z",
     "shell.execute_reply": "2022-10-07T09:59:12.791815Z"
    },
    "papermill": {
     "duration": 0.035635,
     "end_time": "2022-10-07T09:59:12.794955",
     "exception": false,
     "start_time": "2022-10-07T09:59:12.759320",
     "status": "completed"
    },
    "tags": []
   },
   "outputs": [
    {
     "data": {
      "text/plain": [
       "(275663, 30)"
      ]
     },
     "execution_count": 18,
     "metadata": {},
     "output_type": "execute_result"
    }
   ],
   "source": [
    "data.shape"
   ]
  },
  {
   "cell_type": "code",
   "execution_count": 19,
   "id": "689d7bfb",
   "metadata": {
    "execution": {
     "iopub.execute_input": "2022-10-07T09:59:12.846915Z",
     "iopub.status.busy": "2022-10-07T09:59:12.846095Z",
     "iopub.status.idle": "2022-10-07T09:59:12.852748Z",
     "shell.execute_reply": "2022-10-07T09:59:12.851825Z"
    },
    "papermill": {
     "duration": 0.034958,
     "end_time": "2022-10-07T09:59:12.854849",
     "exception": false,
     "start_time": "2022-10-07T09:59:12.819891",
     "status": "completed"
    },
    "tags": []
   },
   "outputs": [
    {
     "data": {
      "text/plain": [
       "9144"
      ]
     },
     "execution_count": 19,
     "metadata": {},
     "output_type": "execute_result"
    }
   ],
   "source": [
    "284807- 275663"
   ]
  },
  {
   "cell_type": "code",
   "execution_count": 20,
   "id": "617c774d",
   "metadata": {
    "execution": {
     "iopub.execute_input": "2022-10-07T09:59:12.959585Z",
     "iopub.status.busy": "2022-10-07T09:59:12.959166Z",
     "iopub.status.idle": "2022-10-07T09:59:12.970778Z",
     "shell.execute_reply": "2022-10-07T09:59:12.969455Z"
    },
    "papermill": {
     "duration": 0.042718,
     "end_time": "2022-10-07T09:59:12.973134",
     "exception": false,
     "start_time": "2022-10-07T09:59:12.930416",
     "status": "completed"
    },
    "tags": []
   },
   "outputs": [
    {
     "data": {
      "text/plain": [
       "0    275190\n",
       "1       473\n",
       "Name: Class, dtype: int64"
      ]
     },
     "execution_count": 20,
     "metadata": {},
     "output_type": "execute_result"
    }
   ],
   "source": [
    "data['Class'].value_counts()"
   ]
  },
  {
   "cell_type": "code",
   "execution_count": 21,
   "id": "5baf3a44",
   "metadata": {
    "execution": {
     "iopub.execute_input": "2022-10-07T09:59:13.027786Z",
     "iopub.status.busy": "2022-10-07T09:59:13.025501Z",
     "iopub.status.idle": "2022-10-07T09:59:13.206723Z",
     "shell.execute_reply": "2022-10-07T09:59:13.205287Z"
    },
    "papermill": {
     "duration": 0.210874,
     "end_time": "2022-10-07T09:59:13.209498",
     "exception": false,
     "start_time": "2022-10-07T09:59:12.998624",
     "status": "completed"
    },
    "tags": []
   },
   "outputs": [],
   "source": [
    "import seaborn as sns"
   ]
  },
  {
   "cell_type": "code",
   "execution_count": 22,
   "id": "9c12368f",
   "metadata": {
    "execution": {
     "iopub.execute_input": "2022-10-07T09:59:13.263361Z",
     "iopub.status.busy": "2022-10-07T09:59:13.262660Z",
     "iopub.status.idle": "2022-10-07T09:59:13.458716Z",
     "shell.execute_reply": "2022-10-07T09:59:13.457422Z"
    },
    "papermill": {
     "duration": 0.225889,
     "end_time": "2022-10-07T09:59:13.461331",
     "exception": false,
     "start_time": "2022-10-07T09:59:13.235442",
     "status": "completed"
    },
    "tags": []
   },
   "outputs": [
    {
     "data": {
      "text/plain": [
       "<AxesSubplot:xlabel='Class', ylabel='count'>"
      ]
     },
     "execution_count": 22,
     "metadata": {},
     "output_type": "execute_result"
    },
    {
     "data": {
      "image/png": "[encoded data removed]",
      "text/plain": [
       "<Figure size 640x480 with 1 Axes>"
      ]
     },
     "metadata": {},
     "output_type": "display_data"
    }
   ],
   "source": [
    "sns.countplot(data['Class'])"
   ]
  },
  {
   "cell_type": "code",
   "execution_count": 23,
   "id": "d805d347",
   "metadata": {
    "execution": {
     "iopub.execute_input": "2022-10-07T09:59:13.567319Z",
     "iopub.status.busy": "2022-10-07T09:59:13.566508Z",
     "iopub.status.idle": "2022-10-07T09:59:13.601529Z",
     "shell.execute_reply": "2022-10-07T09:59:13.600617Z"
    },
    "papermill": {
     "duration": 0.064826,
     "end_time": "2022-10-07T09:59:13.604092",
     "exception": false,
     "start_time": "2022-10-07T09:59:13.539266",
     "status": "completed"
    },
    "tags": []
   },
   "outputs": [],
   "source": [
    "X = data.drop('Class',axis=1)\n",
    "y = data['Class']"
   ]
  },
  {
   "cell_type": "code",
   "execution_count": 24,
   "id": "842367de",
   "metadata": {
    "execution": {
     "iopub.execute_input": "2022-10-07T09:59:13.708655Z",
     "iopub.status.busy": "2022-10-07T09:59:13.707864Z",
     "iopub.status.idle": "2022-10-07T09:59:13.863328Z",
     "shell.execute_reply": "2022-10-07T09:59:13.862188Z"
    },
    "papermill": {
     "duration": 0.185679,
     "end_time": "2022-10-07T09:59:13.866156",
     "exception": false,
     "start_time": "2022-10-07T09:59:13.680477",
     "status": "completed"
    },
    "tags": []
   },
   "outputs": [],
   "source": [
    "from sklearn.model_selection import train_test_split\n",
    "X_train,X_test,y_train,y_test = train_test_split(X,y,test_size=0.20,\n",
    "                                                 random_state=42)"
   ]
  },
  {
   "cell_type": "code",
   "execution_count": 25,
   "id": "e39ab39e",
   "metadata": {
    "execution": {
     "iopub.execute_input": "2022-10-07T09:59:14.022594Z",
     "iopub.status.busy": "2022-10-07T09:59:14.021546Z",
     "iopub.status.idle": "2022-10-07T09:59:14.083792Z",
     "shell.execute_reply": "2022-10-07T09:59:14.082523Z"
    },
    "papermill": {
     "duration": 0.092092,
     "end_time": "2022-10-07T09:59:14.086782",
     "exception": false,
     "start_time": "2022-10-07T09:59:13.994690",
     "status": "completed"
    },
    "tags": []
   },
   "outputs": [],
   "source": [
    "normal = data[data['Class']==0]\n",
    "fraud = data[data['Class']==1]"
   ]
  },
  {
   "cell_type": "code",
   "execution_count": 26,
   "id": "3d446b6b",
   "metadata": {
    "execution": {
     "iopub.execute_input": "2022-10-07T09:59:14.141227Z",
     "iopub.status.busy": "2022-10-07T09:59:14.139797Z",
     "iopub.status.idle": "2022-10-07T09:59:14.146751Z",
     "shell.execute_reply": "2022-10-07T09:59:14.145600Z"
    },
    "papermill": {
     "duration": 0.035747,
     "end_time": "2022-10-07T09:59:14.148894",
     "exception": false,
     "start_time": "2022-10-07T09:59:14.113147",
     "status": "completed"
    },
    "tags": []
   },
   "outputs": [
    {
     "data": {
      "text/plain": [
       "(275190, 30)"
      ]
     },
     "execution_count": 26,
     "metadata": {},
     "output_type": "execute_result"
    }
   ],
   "source": [
    "normal.shape"
   ]
  },
  {
   "cell_type": "code",
   "execution_count": 27,
   "id": "01eba895",
   "metadata": {
    "execution": {
     "iopub.execute_input": "2022-10-07T09:59:14.202664Z",
     "iopub.status.busy": "2022-10-07T09:59:14.201884Z",
     "iopub.status.idle": "2022-10-07T09:59:14.208103Z",
     "shell.execute_reply": "2022-10-07T09:59:14.207228Z"
    },
    "papermill": {
     "duration": 0.035344,
     "end_time": "2022-10-07T09:59:14.210137",
     "exception": false,
     "start_time": "2022-10-07T09:59:14.174793",
     "status": "completed"
    },
    "tags": []
   },
   "outputs": [
    {
     "data": {
      "text/plain": [
       "(473, 30)"
      ]
     },
     "execution_count": 27,
     "metadata": {},
     "output_type": "execute_result"
    }
   ],
   "source": [
    "fraud.shape"
   ]
  },
  {
   "cell_type": "code",
   "execution_count": 28,
   "id": "68c58fce",
   "metadata": {
    "execution": {
     "iopub.execute_input": "2022-10-07T09:59:14.264583Z",
     "iopub.status.busy": "2022-10-07T09:59:14.263831Z",
     "iopub.status.idle": "2022-10-07T09:59:14.276616Z",
     "shell.execute_reply": "2022-10-07T09:59:14.275556Z"
    },
    "papermill": {
     "duration": 0.04325,
     "end_time": "2022-10-07T09:59:14.279122",
     "exception": false,
     "start_time": "2022-10-07T09:59:14.235872",
     "status": "completed"
    },
    "tags": []
   },
   "outputs": [],
   "source": [
    "normal_sample=normal.sample(n=473)"
   ]
  },
  {
   "cell_type": "code",
   "execution_count": 29,
   "id": "054b2f68",
   "metadata": {
    "execution": {
     "iopub.execute_input": "2022-10-07T09:59:14.332823Z",
     "iopub.status.busy": "2022-10-07T09:59:14.332167Z",
     "iopub.status.idle": "2022-10-07T09:59:14.338352Z",
     "shell.execute_reply": "2022-10-07T09:59:14.337233Z"
    },
    "papermill": {
     "duration": 0.035656,
     "end_time": "2022-10-07T09:59:14.340769",
     "exception": false,
     "start_time": "2022-10-07T09:59:14.305113",
     "status": "completed"
    },
    "tags": []
   },
   "outputs": [
    {
     "data": {
      "text/plain": [
       "(473, 30)"
      ]
     },
     "execution_count": 29,
     "metadata": {},
     "output_type": "execute_result"
    }
   ],
   "source": [
    "normal_sample.shape"
   ]
  },
  {
   "cell_type": "code",
   "execution_count": 30,
   "id": "aa65f5c5",
   "metadata": {
    "execution": {
     "iopub.execute_input": "2022-10-07T09:59:14.394651Z",
     "iopub.status.busy": "2022-10-07T09:59:14.394244Z",
     "iopub.status.idle": "2022-10-07T09:59:14.400475Z",
     "shell.execute_reply": "2022-10-07T09:59:14.399314Z"
    },
    "papermill": {
     "duration": 0.035942,
     "end_time": "2022-10-07T09:59:14.402596",
     "exception": false,
     "start_time": "2022-10-07T09:59:14.366654",
     "status": "completed"
    },
    "tags": []
   },
   "outputs": [],
   "source": [
    "new_data = pd.concat([normal_sample,fraud],ignore_index=True)"
   ]
  },
  {
   "cell_type": "code",
   "execution_count": 31,
   "id": "416bbd89",
   "metadata": {
    "execution": {
     "iopub.execute_input": "2022-10-07T09:59:14.457073Z",
     "iopub.status.busy": "2022-10-07T09:59:14.456357Z",
     "iopub.status.idle": "2022-10-07T09:59:14.464693Z",
     "shell.execute_reply": "2022-10-07T09:59:14.463725Z"
    },
    "papermill": {
     "duration": 0.038291,
     "end_time": "2022-10-07T09:59:14.466866",
     "exception": false,
     "start_time": "2022-10-07T09:59:14.428575",
     "status": "completed"
    },
    "tags": []
   },
   "outputs": [
    {
     "data": {
      "text/plain": [
       "0    473\n",
       "1    473\n",
       "Name: Class, dtype: int64"
      ]
     },
     "execution_count": 31,
     "metadata": {},
     "output_type": "execute_result"
    }
   ],
   "source": [
    "new_data['Class'].value_counts()"
   ]
  },
  {
   "cell_type": "code",
   "execution_count": 32,
   "id": "da2bd53e",
   "metadata": {
    "execution": {
     "iopub.execute_input": "2022-10-07T09:59:14.519717Z",
     "iopub.status.busy": "2022-10-07T09:59:14.519305Z",
     "iopub.status.idle": "2022-10-07T09:59:14.551493Z",
     "shell.execute_reply": "2022-10-07T09:59:14.550282Z"
    },
    "papermill": {
     "duration": 0.061487,
     "end_time": "2022-10-07T09:59:14.554092",
     "exception": false,
     "start_time": "2022-10-07T09:59:14.492605",
     "status": "completed"
    },
    "tags": []
   },
   "outputs": [
    {
     "data": {
      "text/html": [
       "<div>\n",
       "<style scoped>\n",
       "    .dataframe tbody tr th:only-of-type {\n",
       "        vertical-align: middle;\n",
       "    }\n",
       "\n",
       "    .dataframe tbody tr th {\n",
       "        vertical-align: top;\n",
       "    }\n",
       "\n",
       "    .dataframe thead th {\n",
       "        text-align: right;\n",
       "    }\n",
       "</style>\n",
       "<table border=\"1\" class=\"dataframe\">\n",
       "  <thead>\n",
       "    <tr style=\"text-align: right;\">\n",
       "      <th></th>\n",
       "      <th>V1</th>\n",
       "      <th>V2</th>\n",
       "      <th>V3</th>\n",
       "      <th>V4</th>\n",
       "      <th>V5</th>\n",
       "      <th>V6</th>\n",
       "      <th>V7</th>\n",
       "      <th>V8</th>\n",
       "      <th>V9</th>\n",
       "      <th>V10</th>\n",
       "      <th>V11</th>\n",
       "      <th>V12</th>\n",
       "      <th>V13</th>\n",
       "      <th>V14</th>\n",
       "      <th>V15</th>\n",
       "      <th>V16</th>\n",
       "      <th>V17</th>\n",
       "      <th>V18</th>\n",
       "      <th>V19</th>\n",
       "      <th>V20</th>\n",
       "      <th>V21</th>\n",
       "      <th>V22</th>\n",
       "      <th>V23</th>\n",
       "      <th>V24</th>\n",
       "      <th>V25</th>\n",
       "      <th>V26</th>\n",
       "      <th>V27</th>\n",
       "      <th>V28</th>\n",
       "      <th>Amount</th>\n",
       "      <th>Class</th>\n",
       "    </tr>\n",
       "  </thead>\n",
       "  <tbody>\n",
       "    <tr>\n",
       "      <th>0</th>\n",
       "      <td>-1.379947</td>\n",
       "      <td>0.152537</td>\n",
       "      <td>-0.007451</td>\n",
       "      <td>-0.067461</td>\n",
       "      <td>1.519619</td>\n",
       "      <td>4.745998</td>\n",
       "      <td>0.183310</td>\n",
       "      <td>1.533789</td>\n",
       "      <td>-0.780093</td>\n",
       "      <td>-0.881237</td>\n",
       "      <td>-0.348689</td>\n",
       "      <td>-0.173077</td>\n",
       "      <td>0.031524</td>\n",
       "      <td>0.514522</td>\n",
       "      <td>1.569452</td>\n",
       "      <td>0.081799</td>\n",
       "      <td>-0.303738</td>\n",
       "      <td>0.657702</td>\n",
       "      <td>0.189586</td>\n",
       "      <td>0.584418</td>\n",
       "      <td>0.426867</td>\n",
       "      <td>0.589969</td>\n",
       "      <td>0.190370</td>\n",
       "      <td>0.675090</td>\n",
       "      <td>0.720605</td>\n",
       "      <td>-0.243474</td>\n",
       "      <td>-0.072725</td>\n",
       "      <td>0.013167</td>\n",
       "      <td>0.658126</td>\n",
       "      <td>0</td>\n",
       "    </tr>\n",
       "    <tr>\n",
       "      <th>1</th>\n",
       "      <td>-0.804835</td>\n",
       "      <td>0.424473</td>\n",
       "      <td>1.450238</td>\n",
       "      <td>0.406983</td>\n",
       "      <td>0.384634</td>\n",
       "      <td>1.668878</td>\n",
       "      <td>0.431710</td>\n",
       "      <td>0.500281</td>\n",
       "      <td>-0.095568</td>\n",
       "      <td>-0.591321</td>\n",
       "      <td>0.061637</td>\n",
       "      <td>0.047064</td>\n",
       "      <td>-0.896636</td>\n",
       "      <td>0.122878</td>\n",
       "      <td>1.144424</td>\n",
       "      <td>-1.867606</td>\n",
       "      <td>1.528608</td>\n",
       "      <td>-2.295149</td>\n",
       "      <td>-0.483383</td>\n",
       "      <td>-0.167519</td>\n",
       "      <td>-0.015727</td>\n",
       "      <td>0.217055</td>\n",
       "      <td>0.039154</td>\n",
       "      <td>-0.935088</td>\n",
       "      <td>-0.505620</td>\n",
       "      <td>0.442808</td>\n",
       "      <td>0.067993</td>\n",
       "      <td>0.084374</td>\n",
       "      <td>-0.013672</td>\n",
       "      <td>0</td>\n",
       "    </tr>\n",
       "    <tr>\n",
       "      <th>2</th>\n",
       "      <td>-1.668405</td>\n",
       "      <td>1.048860</td>\n",
       "      <td>1.511900</td>\n",
       "      <td>0.492993</td>\n",
       "      <td>-1.727241</td>\n",
       "      <td>1.207496</td>\n",
       "      <td>-1.049803</td>\n",
       "      <td>0.576200</td>\n",
       "      <td>0.925928</td>\n",
       "      <td>-1.010411</td>\n",
       "      <td>-1.101878</td>\n",
       "      <td>0.636733</td>\n",
       "      <td>-0.877369</td>\n",
       "      <td>-0.198203</td>\n",
       "      <td>-0.989082</td>\n",
       "      <td>-0.962371</td>\n",
       "      <td>1.400948</td>\n",
       "      <td>-0.963723</td>\n",
       "      <td>-0.469299</td>\n",
       "      <td>-0.504413</td>\n",
       "      <td>1.006944</td>\n",
       "      <td>0.787177</td>\n",
       "      <td>0.129449</td>\n",
       "      <td>0.152885</td>\n",
       "      <td>-0.415621</td>\n",
       "      <td>0.539772</td>\n",
       "      <td>0.149792</td>\n",
       "      <td>0.069595</td>\n",
       "      <td>-0.030864</td>\n",
       "      <td>0</td>\n",
       "    </tr>\n",
       "    <tr>\n",
       "      <th>3</th>\n",
       "      <td>-0.802005</td>\n",
       "      <td>0.788349</td>\n",
       "      <td>1.767826</td>\n",
       "      <td>-1.347787</td>\n",
       "      <td>-0.253808</td>\n",
       "      <td>-0.866039</td>\n",
       "      <td>0.521384</td>\n",
       "      <td>0.048203</td>\n",
       "      <td>-0.215941</td>\n",
       "      <td>-0.450413</td>\n",
       "      <td>1.398305</td>\n",
       "      <td>0.691129</td>\n",
       "      <td>-0.157394</td>\n",
       "      <td>0.128706</td>\n",
       "      <td>-0.194968</td>\n",
       "      <td>0.727221</td>\n",
       "      <td>-0.856368</td>\n",
       "      <td>0.078721</td>\n",
       "      <td>-0.468483</td>\n",
       "      <td>0.014806</td>\n",
       "      <td>-0.002141</td>\n",
       "      <td>-0.038180</td>\n",
       "      <td>-0.030019</td>\n",
       "      <td>0.567297</td>\n",
       "      <td>-0.407361</td>\n",
       "      <td>0.677144</td>\n",
       "      <td>0.121505</td>\n",
       "      <td>0.163183</td>\n",
       "      <td>-0.333279</td>\n",
       "      <td>0</td>\n",
       "    </tr>\n",
       "    <tr>\n",
       "      <th>4</th>\n",
       "      <td>1.109071</td>\n",
       "      <td>0.061282</td>\n",
       "      <td>0.622337</td>\n",
       "      <td>1.452091</td>\n",
       "      <td>-0.178357</td>\n",
       "      <td>0.351704</td>\n",
       "      <td>-0.285974</td>\n",
       "      <td>0.091020</td>\n",
       "      <td>-0.677818</td>\n",
       "      <td>0.662103</td>\n",
       "      <td>0.621347</td>\n",
       "      <td>0.774766</td>\n",
       "      <td>1.154464</td>\n",
       "      <td>-0.011519</td>\n",
       "      <td>0.103070</td>\n",
       "      <td>1.392553</td>\n",
       "      <td>-1.245344</td>\n",
       "      <td>0.510886</td>\n",
       "      <td>-0.332998</td>\n",
       "      <td>0.124986</td>\n",
       "      <td>0.119724</td>\n",
       "      <td>0.202824</td>\n",
       "      <td>-0.174770</td>\n",
       "      <td>-0.421437</td>\n",
       "      <td>0.301579</td>\n",
       "      <td>1.024982</td>\n",
       "      <td>-0.068117</td>\n",
       "      <td>0.009277</td>\n",
       "      <td>-0.101590</td>\n",
       "      <td>0</td>\n",
       "    </tr>\n",
       "  </tbody>\n",
       "</table>\n",
       "</div>"
      ],
      "text/plain": [
       "         V1        V2        V3        V4        V5        V6        V7  \\\n",
       "0 -1.379947  0.152537 -0.007451 -0.067461  1.519619  4.745998  0.183310   \n",
       "1 -0.804835  0.424473  1.450238  0.406983  0.384634  1.668878  0.431710   \n",
       "2 -1.668405  1.048860  1.511900  0.492993 -1.727241  1.207496 -1.049803   \n",
       "3 -0.802005  0.788349  1.767826 -1.347787 -0.253808 -0.866039  0.521384   \n",
       "4  1.109071  0.061282  0.622337  1.452091 -0.178357  0.351704 -0.285974   \n",
       "\n",
       "         V8        V9       V10       V11       V12       V13       V14  \\\n",
       "0  1.533789 -0.780093 -0.881237 -0.348689 -0.173077  0.031524  0.514522   \n",
       "1  0.500281 -0.095568 -0.591321  0.061637  0.047064 -0.896636  0.122878   \n",
       "2  0.576200  0.925928 -1.010411 -1.101878  0.636733 -0.877369 -0.198203   \n",
       "3  0.048203 -0.215941 -0.450413  1.398305  0.691129 -0.157394  0.128706   \n",
       "4  0.091020 -0.677818  0.662103  0.621347  0.774766  1.154464 -0.011519   \n",
       "\n",
       "        V15       V16       V17       V18       V19       V20       V21  \\\n",
       "0  1.569452  0.081799 -0.303738  0.657702  0.189586  0.584418  0.426867   \n",
       "1  1.144424 -1.867606  1.528608 -2.295149 -0.483383 -0.167519 -0.015727   \n",
       "2 -0.989082 -0.962371  1.400948 -0.963723 -0.469299 -0.504413  1.006944   \n",
       "3 -0.194968  0.727221 -0.856368  0.078721 -0.468483  0.014806 -0.002141   \n",
       "4  0.103070  1.392553 -1.245344  0.510886 -0.332998  0.124986  0.119724   \n",
       "\n",
       "        V22       V23       V24       V25       V26       V27       V28  \\\n",
       "0  0.589969  0.190370  0.675090  0.720605 -0.243474 -0.072725  0.013167   \n",
       "1  0.217055  0.039154 -0.935088 -0.505620  0.442808  0.067993  0.084374   \n",
       "2  0.787177  0.129449  0.152885 -0.415621  0.539772  0.149792  0.069595   \n",
       "3 -0.038180 -0.030019  0.567297 -0.407361  0.677144  0.121505  0.163183   \n",
       "4  0.202824 -0.174770 -0.421437  0.301579  1.024982 -0.068117  0.009277   \n",
       "\n",
       "     Amount  Class  \n",
       "0  0.658126      0  \n",
       "1 -0.013672      0  \n",
       "2 -0.030864      0  \n",
       "3 -0.333279      0  \n",
       "4 -0.101590      0  "
      ]
     },
     "execution_count": 32,
     "metadata": {},
     "output_type": "execute_result"
    }
   ],
   "source": [
    "new_data.head()"
   ]
  },
  {
   "cell_type": "code",
   "execution_count": 33,
   "id": "3dbc4194",
   "metadata": {
    "execution": {
     "iopub.execute_input": "2022-10-07T09:59:14.609028Z",
     "iopub.status.busy": "2022-10-07T09:59:14.608258Z",
     "iopub.status.idle": "2022-10-07T09:59:14.614539Z",
     "shell.execute_reply": "2022-10-07T09:59:14.613495Z"
    },
    "papermill": {
     "duration": 0.036409,
     "end_time": "2022-10-07T09:59:14.616835",
     "exception": false,
     "start_time": "2022-10-07T09:59:14.580426",
     "status": "completed"
    },
    "tags": []
   },
   "outputs": [],
   "source": [
    "X = new_data.drop('Class',axis=1)\n",
    "y = new_data['Class']"
   ]
  },
  {
   "cell_type": "code",
   "execution_count": 34,
   "id": "78350bb5",
   "metadata": {
    "execution": {
     "iopub.execute_input": "2022-10-07T09:59:14.671662Z",
     "iopub.status.busy": "2022-10-07T09:59:14.671262Z",
     "iopub.status.idle": "2022-10-07T09:59:14.679717Z",
     "shell.execute_reply": "2022-10-07T09:59:14.678800Z"
    },
    "papermill": {
     "duration": 0.039147,
     "end_time": "2022-10-07T09:59:14.681986",
     "exception": false,
     "start_time": "2022-10-07T09:59:14.642839",
     "status": "completed"
    },
    "tags": []
   },
   "outputs": [],
   "source": [
    "from sklearn.model_selection import train_test_split\n",
    "X_train,X_test,y_train,y_test = train_test_split(X,y,test_size=0.20,\n",
    "                                                 random_state=42)"
   ]
  },
  {
   "cell_type": "markdown",
   "id": "bad60334",
   "metadata": {
    "papermill": {
     "duration": 0.025713,
     "end_time": "2022-10-07T09:59:14.733927",
     "exception": false,
     "start_time": "2022-10-07T09:59:14.708214",
     "status": "completed"
    },
    "tags": []
   },
   "source": [
    "# Logistic Regression"
   ]
  },
  {
   "cell_type": "code",
   "execution_count": 35,
   "id": "33eb6ab5",
   "metadata": {
    "execution": {
     "iopub.execute_input": "2022-10-07T09:59:14.788120Z",
     "iopub.status.busy": "2022-10-07T09:59:14.787670Z",
     "iopub.status.idle": "2022-10-07T09:59:14.897822Z",
     "shell.execute_reply": "2022-10-07T09:59:14.896506Z"
    },
    "papermill": {
     "duration": 0.141129,
     "end_time": "2022-10-07T09:59:14.901126",
     "exception": false,
     "start_time": "2022-10-07T09:59:14.759997",
     "status": "completed"
    },
    "tags": []
   },
   "outputs": [
    {
     "data": {
      "text/plain": [
       "LogisticRegression()"
      ]
     },
     "execution_count": 35,
     "metadata": {},
     "output_type": "execute_result"
    }
   ],
   "source": [
    "from sklearn.linear_model import LogisticRegression\n",
    "log = LogisticRegression()\n",
    "log.fit(X_train,y_train)"
   ]
  },
  {
   "cell_type": "code",
   "execution_count": 36,
   "id": "1a82f69b",
   "metadata": {
    "execution": {
     "iopub.execute_input": "2022-10-07T09:59:14.993151Z",
     "iopub.status.busy": "2022-10-07T09:59:14.992521Z",
     "iopub.status.idle": "2022-10-07T09:59:15.003154Z",
     "shell.execute_reply": "2022-10-07T09:59:15.001124Z"
    },
    "papermill": {
     "duration": 0.059573,
     "end_time": "2022-10-07T09:59:15.007280",
     "exception": false,
     "start_time": "2022-10-07T09:59:14.947707",
     "status": "completed"
    },
    "tags": []
   },
   "outputs": [
    {
     "name": "stdout",
     "output_type": "stream",
     "text": [
      "[0 0 1 0 0 1 1 0 0 1 0 0 0 1 1 0 0 1 1 1 1 1 1 1 0 0 1 1 0 0 1 1 1 0 0 1 0\n",
      " 0 0 0 1 0 1 1 1 0 0 1 0 1 0 1 0 1 0 0 0 1 1 0 1 1 0 0 1 0 0 0 0 0 0 0 1 1\n",
      " 0 0 0 1 1 0 1 1 0 0 1 1 0 0 0 0 0 1 0 1 1 1 1 1 1 1 1 1 1 1 0 1 1 0 0 1 1\n",
      " 0 1 0 1 1 1 0 1 1 0 0 1 1 1 0 0 0 0 1 1 0 1 0 0 0 1 0 0 1 1 0 0 1 0 0 0 1\n",
      " 1 1 0 1 1 0 0 1 0 0 1 1 0 0 0 0 1 1 0 0 0 1 1 1 0 1 1 1 1 1 1 1 0 1 0 0 1\n",
      " 1 1 1 0 0]\n"
     ]
    }
   ],
   "source": [
    "y_pred1 = log.predict(X_test)\n",
    "print(y_pred1)"
   ]
  },
  {
   "cell_type": "code",
   "execution_count": 37,
   "id": "65a97b19",
   "metadata": {
    "execution": {
     "iopub.execute_input": "2022-10-07T09:59:15.064750Z",
     "iopub.status.busy": "2022-10-07T09:59:15.063515Z",
     "iopub.status.idle": "2022-10-07T09:59:15.069333Z",
     "shell.execute_reply": "2022-10-07T09:59:15.068458Z"
    },
    "papermill": {
     "duration": 0.036131,
     "end_time": "2022-10-07T09:59:15.071668",
     "exception": false,
     "start_time": "2022-10-07T09:59:15.035537",
     "status": "completed"
    },
    "tags": []
   },
   "outputs": [],
   "source": [
    "from sklearn.metrics import accuracy_score"
   ]
  },
  {
   "cell_type": "code",
   "execution_count": 38,
   "id": "aec6b581",
   "metadata": {
    "execution": {
     "iopub.execute_input": "2022-10-07T09:59:15.127319Z",
     "iopub.status.busy": "2022-10-07T09:59:15.126519Z",
     "iopub.status.idle": "2022-10-07T09:59:15.134902Z",
     "shell.execute_reply": "2022-10-07T09:59:15.133451Z"
    },
    "papermill": {
     "duration": 0.039024,
     "end_time": "2022-10-07T09:59:15.137398",
     "exception": false,
     "start_time": "2022-10-07T09:59:15.098374",
     "status": "completed"
    },
    "tags": []
   },
   "outputs": [
    {
     "data": {
      "text/plain": [
       "0.9315789473684211"
      ]
     },
     "execution_count": 38,
     "metadata": {},
     "output_type": "execute_result"
    }
   ],
   "source": [
    "accuracy_score(y_test,y_pred1)"
   ]
  },
  {
   "cell_type": "code",
   "execution_count": 39,
   "id": "8e164f75",
   "metadata": {
    "execution": {
     "iopub.execute_input": "2022-10-07T09:59:15.192045Z",
     "iopub.status.busy": "2022-10-07T09:59:15.190858Z",
     "iopub.status.idle": "2022-10-07T09:59:15.196371Z",
     "shell.execute_reply": "2022-10-07T09:59:15.195469Z"
    },
    "papermill": {
     "duration": 0.035061,
     "end_time": "2022-10-07T09:59:15.198567",
     "exception": false,
     "start_time": "2022-10-07T09:59:15.163506",
     "status": "completed"
    },
    "tags": []
   },
   "outputs": [],
   "source": [
    "from sklearn.metrics import precision_score,recall_score,f1_score"
   ]
  },
  {
   "cell_type": "code",
   "execution_count": 40,
   "id": "d52bb0d1",
   "metadata": {
    "execution": {
     "iopub.execute_input": "2022-10-07T09:59:15.253675Z",
     "iopub.status.busy": "2022-10-07T09:59:15.253019Z",
     "iopub.status.idle": "2022-10-07T09:59:15.261504Z",
     "shell.execute_reply": "2022-10-07T09:59:15.260204Z"
    },
    "papermill": {
     "duration": 0.03848,
     "end_time": "2022-10-07T09:59:15.263802",
     "exception": false,
     "start_time": "2022-10-07T09:59:15.225322",
     "status": "completed"
    },
    "tags": []
   },
   "outputs": [
    {
     "data": {
      "text/plain": [
       "0.9587628865979382"
      ]
     },
     "execution_count": 40,
     "metadata": {},
     "output_type": "execute_result"
    }
   ],
   "source": [
    "precision_score(y_test,y_pred1)"
   ]
  },
  {
   "cell_type": "code",
   "execution_count": 45,
   "id": "b1853940",
   "metadata": {
    "execution": {
     "iopub.execute_input": "2022-10-07T09:59:15.318575Z",
     "iopub.status.busy": "2022-10-07T09:59:15.317892Z",
     "iopub.status.idle": "2022-10-07T09:59:15.327224Z",
     "shell.execute_reply": "2022-10-07T09:59:15.326251Z"
    },
    "papermill": {
     "duration": 0.039005,
     "end_time": "2022-10-07T09:59:15.329363",
     "exception": false,
     "start_time": "2022-10-07T09:59:15.290358",
     "status": "completed"
    },
    "tags": []
   },
   "outputs": [
    {
     "data": {
      "text/plain": [
       "0.9117647058823529"
      ]
     },
     "execution_count": 45,
     "metadata": {},
     "output_type": "execute_result"
    }
   ],
   "source": [
    "recall_score(y_test,y_pred1)"
   ]
  },
  {
   "cell_type": "code",
   "execution_count": 46,
   "id": "ad629770",
   "metadata": {
    "execution": {
     "iopub.execute_input": "2022-10-07T09:59:15.384523Z",
     "iopub.status.busy": "2022-10-07T09:59:15.383847Z",
     "iopub.status.idle": "2022-10-07T09:59:15.392274Z",
     "shell.execute_reply": "2022-10-07T09:59:15.391115Z"
    },
    "papermill": {
     "duration": 0.038671,
     "end_time": "2022-10-07T09:59:15.394490",
     "exception": false,
     "start_time": "2022-10-07T09:59:15.355819",
     "status": "completed"
    },
    "tags": []
   },
   "outputs": [
    {
     "data": {
      "text/plain": [
       "0.9346733668341709"
      ]
     },
     "execution_count": 46,
     "metadata": {},
     "output_type": "execute_result"
    }
   ],
   "source": [
    "f1_score(y_test,y_pred1)"
   ]
  },
  {
   "cell_type": "code",
   "execution_count": null,
   "id": "a5a9af05",
   "metadata": {},
   "outputs": [],
   "source": []
  },
  {
   "cell_type": "code",
   "execution_count": null,
   "id": "91150e84",
   "metadata": {},
   "outputs": [],
   "source": []
  }
 ],
 "metadata": {
  "kernelspec": {
   "display_name": "Python 3 (ipykernel)",
   "language": "python",
   "name": "python3"
  },
  "language_info": {
   "codemirror_mode": {
    "name": "ipython",
    "version": 3
   },
   "file_extension": ".py",
   "mimetype": "text/x-python",
   "name": "python",
   "nbconvert_exporter": "python",
   "pygments_lexer": "ipython3",
   "version": "3.9.13"
  },
  "papermill": {
   "default_parameters": {},
   "duration": 1142.417884,
   "end_time": "2022-10-07T10:17:56.677779",
   "environment_variables": {},
   "exception": null,
   "input_path": "__notebook__.ipynb",
   "output_path": "__notebook__.ipynb",
   "parameters": {},
   "start_time": "2022-10-07T09:58:54.259895",
   "version": "2.3.4"
  }
 },
 "nbformat": 4,
 "nbformat_minor": 5
}
